{
  "nbformat": 4,
  "nbformat_minor": 0,
  "metadata": {
    "colab": {
      "provenance": []
    },
    "kernelspec": {
      "name": "python3",
      "display_name": "Python 3"
    },
    "language_info": {
      "name": "python"
    }
  },
  "cells": [
    {
      "cell_type": "code",
      "execution_count": 1,
      "metadata": {
        "colab": {
          "base_uri": "https://localhost:8080/"
        },
        "id": "UyQkB5vTdypY",
        "outputId": "c5e30a99-43f5-4924-a798-f7f84e834a51"
      },
      "outputs": [
        {
          "output_type": "stream",
          "name": "stdout",
          "text": [
            "Requirement already satisfied: pandas in /usr/local/lib/python3.10/dist-packages (2.0.3)\n",
            "Requirement already satisfied: python-dateutil>=2.8.2 in /usr/local/lib/python3.10/dist-packages (from pandas) (2.8.2)\n",
            "Requirement already satisfied: pytz>=2020.1 in /usr/local/lib/python3.10/dist-packages (from pandas) (2023.4)\n",
            "Requirement already satisfied: tzdata>=2022.1 in /usr/local/lib/python3.10/dist-packages (from pandas) (2024.1)\n",
            "Requirement already satisfied: numpy>=1.21.0 in /usr/local/lib/python3.10/dist-packages (from pandas) (1.25.2)\n",
            "Requirement already satisfied: six>=1.5 in /usr/local/lib/python3.10/dist-packages (from python-dateutil>=2.8.2->pandas) (1.16.0)\n"
          ]
        }
      ],
      "source": [
        "pip install pandas"
      ]
    },
    {
      "cell_type": "code",
      "source": [
        "pip install numpy"
      ],
      "metadata": {
        "colab": {
          "base_uri": "https://localhost:8080/"
        },
        "id": "Nxj7c-WAd2cH",
        "outputId": "fd281853-8c93-4ef7-f743-e4262e8b1f9d"
      },
      "execution_count": 2,
      "outputs": [
        {
          "output_type": "stream",
          "name": "stdout",
          "text": [
            "Requirement already satisfied: numpy in /usr/local/lib/python3.10/dist-packages (1.25.2)\n"
          ]
        }
      ]
    },
    {
      "cell_type": "code",
      "source": [
        "pip install seaborn"
      ],
      "metadata": {
        "colab": {
          "base_uri": "https://localhost:8080/"
        },
        "id": "MBeYXfPrd6Bb",
        "outputId": "cdc1693f-6541-41b0-b983-c624499491c2"
      },
      "execution_count": 3,
      "outputs": [
        {
          "output_type": "stream",
          "name": "stdout",
          "text": [
            "Requirement already satisfied: seaborn in /usr/local/lib/python3.10/dist-packages (0.13.1)\n",
            "Requirement already satisfied: numpy!=1.24.0,>=1.20 in /usr/local/lib/python3.10/dist-packages (from seaborn) (1.25.2)\n",
            "Requirement already satisfied: pandas>=1.2 in /usr/local/lib/python3.10/dist-packages (from seaborn) (2.0.3)\n",
            "Requirement already satisfied: matplotlib!=3.6.1,>=3.4 in /usr/local/lib/python3.10/dist-packages (from seaborn) (3.7.1)\n",
            "Requirement already satisfied: contourpy>=1.0.1 in /usr/local/lib/python3.10/dist-packages (from matplotlib!=3.6.1,>=3.4->seaborn) (1.2.1)\n",
            "Requirement already satisfied: cycler>=0.10 in /usr/local/lib/python3.10/dist-packages (from matplotlib!=3.6.1,>=3.4->seaborn) (0.12.1)\n",
            "Requirement already satisfied: fonttools>=4.22.0 in /usr/local/lib/python3.10/dist-packages (from matplotlib!=3.6.1,>=3.4->seaborn) (4.53.0)\n",
            "Requirement already satisfied: kiwisolver>=1.0.1 in /usr/local/lib/python3.10/dist-packages (from matplotlib!=3.6.1,>=3.4->seaborn) (1.4.5)\n",
            "Requirement already satisfied: packaging>=20.0 in /usr/local/lib/python3.10/dist-packages (from matplotlib!=3.6.1,>=3.4->seaborn) (24.1)\n",
            "Requirement already satisfied: pillow>=6.2.0 in /usr/local/lib/python3.10/dist-packages (from matplotlib!=3.6.1,>=3.4->seaborn) (9.4.0)\n",
            "Requirement already satisfied: pyparsing>=2.3.1 in /usr/local/lib/python3.10/dist-packages (from matplotlib!=3.6.1,>=3.4->seaborn) (3.1.2)\n",
            "Requirement already satisfied: python-dateutil>=2.7 in /usr/local/lib/python3.10/dist-packages (from matplotlib!=3.6.1,>=3.4->seaborn) (2.8.2)\n",
            "Requirement already satisfied: pytz>=2020.1 in /usr/local/lib/python3.10/dist-packages (from pandas>=1.2->seaborn) (2023.4)\n",
            "Requirement already satisfied: tzdata>=2022.1 in /usr/local/lib/python3.10/dist-packages (from pandas>=1.2->seaborn) (2024.1)\n",
            "Requirement already satisfied: six>=1.5 in /usr/local/lib/python3.10/dist-packages (from python-dateutil>=2.7->matplotlib!=3.6.1,>=3.4->seaborn) (1.16.0)\n"
          ]
        }
      ]
    },
    {
      "cell_type": "code",
      "source": [
        "pip install metaplotlib.py"
      ],
      "metadata": {
        "colab": {
          "base_uri": "https://localhost:8080/"
        },
        "id": "PnqpNeo_d-JH",
        "outputId": "1b035365-20a0-40c7-a561-7572482ddc8b"
      },
      "execution_count": 6,
      "outputs": [
        {
          "output_type": "stream",
          "name": "stdout",
          "text": [
            "\u001b[31mERROR: Could not find a version that satisfies the requirement metaplotlib.py (from versions: none)\u001b[0m\u001b[31m\n",
            "\u001b[0m\u001b[31mERROR: No matching distribution found for metaplotlib.py\u001b[0m\u001b[31m\n",
            "\u001b[0m"
          ]
        }
      ]
    },
    {
      "cell_type": "code",
      "source": [
        "import pandas as pd\n",
        "import numpy as np\n",
        "import seaborn as sns\n",
        "import matplotlib.pyplot as plt"
      ],
      "metadata": {
        "id": "j-qDk6WkeOfd"
      },
      "execution_count": 7,
      "outputs": []
    },
    {
      "cell_type": "code",
      "source": [
        "#creating an nparray with series\n",
        "np_array=np.array([1,2,3,4,5])\n",
        "a=pd.Series(np_array)\n",
        "print(a)"
      ],
      "metadata": {
        "colab": {
          "base_uri": "https://localhost:8080/"
        },
        "id": "NJa1bhLleSxQ",
        "outputId": "a50f3aa0-7037-42c3-c61a-32ac1109fbe6"
      },
      "execution_count": 8,
      "outputs": [
        {
          "output_type": "stream",
          "name": "stdout",
          "text": [
            "0    1\n",
            "1    2\n",
            "2    3\n",
            "3    4\n",
            "4    5\n",
            "dtype: int64\n"
          ]
        }
      ]
    },
    {
      "cell_type": "code",
      "source": [
        "#creating an nparray with series but with mutable indexes\n",
        "np_array=np.array([1,2,3,4,5])\n",
        "a=pd.Series(np_array,\n",
        "            index=['first','second','third','forth','fifth']\n",
        "            )\n",
        "print(a)"
      ],
      "metadata": {
        "colab": {
          "base_uri": "https://localhost:8080/"
        },
        "id": "CoH9eztWe1Hn",
        "outputId": "583d0a11-eb2a-4c38-99e9-13732b898860"
      },
      "execution_count": 10,
      "outputs": [
        {
          "output_type": "stream",
          "name": "stdout",
          "text": [
            "first     1\n",
            "second    2\n",
            "third     3\n",
            "forth     4\n",
            "fifth     5\n",
            "dtype: int64\n"
          ]
        }
      ]
    },
    {
      "cell_type": "code",
      "source": [
        "z=len(a)\n",
        "print(z)"
      ],
      "metadata": {
        "colab": {
          "base_uri": "https://localhost:8080/"
        },
        "id": "Z5N1h-iFgMZF",
        "outputId": "bd31d956-6e0b-4582-b1a3-d94c42d2cfb4"
      },
      "execution_count": 12,
      "outputs": [
        {
          "output_type": "stream",
          "name": "stdout",
          "text": [
            "5\n"
          ]
        }
      ]
    },
    {
      "cell_type": "code",
      "source": [
        "#creating a series from scalar values\n",
        "s=pd.Series(10,index=[0,1,2,3,4,5])\n",
        "print(s)"
      ],
      "metadata": {
        "colab": {
          "base_uri": "https://localhost:8080/"
        },
        "id": "24dR7TJfgUC0",
        "outputId": "69ff58c8-20ce-4624-f309-01999326ef74"
      },
      "execution_count": 14,
      "outputs": [
        {
          "output_type": "stream",
          "name": "stdout",
          "text": [
            "0    10\n",
            "1    10\n",
            "2    10\n",
            "3    10\n",
            "4    10\n",
            "5    10\n",
            "dtype: int64\n"
          ]
        }
      ]
    },
    {
      "cell_type": "code",
      "source": [
        "#creating a series from dictionary\n",
        "dictionary_1={\"NAME\":\"Abdullah\",\"AGE\":\"21\",\"GENDER\":\"MALE\"}\n",
        "a=pd.Series(dictionary_1)\n",
        "print(a)"
      ],
      "metadata": {
        "colab": {
          "base_uri": "https://localhost:8080/"
        },
        "id": "WRTESGZ0g46_",
        "outputId": "96f82b08-795b-4aa1-e0d9-cf5c8879506e"
      },
      "execution_count": 15,
      "outputs": [
        {
          "output_type": "stream",
          "name": "stdout",
          "text": [
            "NAME      Abdullah\n",
            "AGE             21\n",
            "GENDER        MALE\n",
            "dtype: object\n"
          ]
        }
      ]
    },
    {
      "cell_type": "code",
      "source": [
        "#mathematical operations in series\n",
        "series=pd.Series([1,2,3,4,5],index=['first','second','third','forth','fifth'])\n",
        "print(series)\n",
        "#mutilpy by 2\n",
        "print(\"multiplying all values of series by 2\")\n",
        "print(series*2)\n",
        "#add 2\n",
        "print(\"adding all values of series by 2\")\n",
        "print(series+2)\n",
        "#subtract 2\n",
        "print(\"subtracting all values of series by 2\")\n",
        "print(series-2)\n",
        "#divide by 2\n",
        "print(\"dividing all values of series by 2\")\n",
        "print(series/2)\n",
        "#squaring all values of series\n",
        "print(\"squaring all values of series\")\n",
        "print(series**2)\n",
        "#printing all values of series greater than 2\n",
        "print(\"printing all values of series greater than 2\")\n",
        "print(series[series>2])\n",
        ""
      ],
      "metadata": {
        "colab": {
          "base_uri": "https://localhost:8080/"
        },
        "id": "K8K79MlGhpyf",
        "outputId": "02b6de1e-8159-4d75-b209-f270830000c3"
      },
      "execution_count": 21,
      "outputs": [
        {
          "output_type": "stream",
          "name": "stdout",
          "text": [
            "first     1\n",
            "second    2\n",
            "third     3\n",
            "forth     4\n",
            "fifth     5\n",
            "dtype: int64\n",
            "multiplying all values of series by 2\n",
            "first      2\n",
            "second     4\n",
            "third      6\n",
            "forth      8\n",
            "fifth     10\n",
            "dtype: int64\n",
            "adding all values of series by 2\n",
            "first     3\n",
            "second    4\n",
            "third     5\n",
            "forth     6\n",
            "fifth     7\n",
            "dtype: int64\n",
            "subtracting all values of series by 2\n",
            "first    -1\n",
            "second    0\n",
            "third     1\n",
            "forth     2\n",
            "fifth     3\n",
            "dtype: int64\n",
            "dividing all values of series by 2\n",
            "first     0.5\n",
            "second    1.0\n",
            "third     1.5\n",
            "forth     2.0\n",
            "fifth     2.5\n",
            "dtype: float64\n",
            "squaring all values of series\n",
            "first      1\n",
            "second     4\n",
            "third      9\n",
            "forth     16\n",
            "fifth     25\n",
            "dtype: int64\n",
            "printing all values of series greater than 2\n",
            "third    3\n",
            "forth    4\n",
            "fifth    5\n",
            "dtype: int64\n"
          ]
        }
      ]
    },
    {
      "cell_type": "code",
      "source": [
        "#more mathematical functions that can be applied to series\n",
        "d=pd.Series([1,2,3,4,5,6,7,8,9,10],index=['first','second','third','forth','fifth','sixth','seven','eight','nine','tenth'])\n",
        "e=pd.Series([1,2,3,4,5,6,7,8,9,10],index=['first','second','third','forth','fifth','sixth','seven','eight','nine','tenth'])\n",
        "f = pd.Series([1, 2, 3, 4, 5], index=['first', 'second', 'third', 'forth', 'fifth'])\n",
        "print(\"two series arrays with equal data and indexes\")\n",
        "print(d+ e)\n",
        "#or\n",
        "\n",
        "print(e.add(f,fill_value=1))"
      ],
      "metadata": {
        "colab": {
          "base_uri": "https://localhost:8080/"
        },
        "id": "Wj_Pq3AeieTI",
        "outputId": "1817edc3-df0a-4f88-ac45-2e48df7f320e"
      },
      "execution_count": 34,
      "outputs": [
        {
          "output_type": "stream",
          "name": "stdout",
          "text": [
            "two series arrays with equal data and indexes\n",
            "first      2\n",
            "second     4\n",
            "third      6\n",
            "forth      8\n",
            "fifth     10\n",
            "sixth     12\n",
            "seven     14\n",
            "eight     16\n",
            "nine      18\n",
            "tenth     20\n",
            "dtype: int64\n",
            "eight      9.0\n",
            "fifth     10.0\n",
            "first      2.0\n",
            "forth      8.0\n",
            "nine      10.0\n",
            "second     4.0\n",
            "seven      8.0\n",
            "sixth      7.0\n",
            "tenth     11.0\n",
            "third      6.0\n",
            "dtype: float64\n"
          ]
        }
      ]
    },
    {
      "cell_type": "code",
      "source": [
        "#now going towards head and tail functions in series\n",
        "series=pd.Series([1,2,3,4,5],index=['first','second','third','forth','fifth'])\n",
        "print(series.head())\n",
        "print(series.tail())\n",
        "print(series.head(3))\n",
        "print(series.tail(3))"
      ],
      "metadata": {
        "colab": {
          "base_uri": "https://localhost:8080/"
        },
        "id": "KF1fKPvZkFrW",
        "outputId": "d745a49a-ba13-45ca-f54b-8a6c1613f6d3"
      },
      "execution_count": 37,
      "outputs": [
        {
          "output_type": "stream",
          "name": "stdout",
          "text": [
            "first     1\n",
            "second    2\n",
            "third     3\n",
            "forth     4\n",
            "fifth     5\n",
            "dtype: int64\n",
            "first     1\n",
            "second    2\n",
            "third     3\n",
            "forth     4\n",
            "fifth     5\n",
            "dtype: int64\n",
            "first     1\n",
            "second    2\n",
            "third     3\n",
            "dtype: int64\n",
            "third    3\n",
            "forth    4\n",
            "fifth    5\n",
            "dtype: int64\n"
          ]
        }
      ]
    },
    {
      "cell_type": "code",
      "source": [
        "#creating a series from dictionary and applying head and tail functions\n",
        "dictionary_1={\"NAME\":\"Abdullah\",\"AGE\":\"21\",\"GENDER\":\"MALE\"}\n",
        "a=pd.Series(dictionary_1)\n",
        "print(a.head())\n",
        "print(a.tail())\n",
        "print(a.head(2))\n",
        "print(a.tail(2))"
      ],
      "metadata": {
        "colab": {
          "base_uri": "https://localhost:8080/"
        },
        "id": "rFgB0mFIn3ww",
        "outputId": "de60bc16-fbe3-4f63-909d-875a0961756a"
      },
      "execution_count": 38,
      "outputs": [
        {
          "output_type": "stream",
          "name": "stdout",
          "text": [
            "NAME      Abdullah\n",
            "AGE             21\n",
            "GENDER        MALE\n",
            "dtype: object\n",
            "NAME      Abdullah\n",
            "AGE             21\n",
            "GENDER        MALE\n",
            "dtype: object\n",
            "NAME    Abdullah\n",
            "AGE           21\n",
            "dtype: object\n",
            "AGE         21\n",
            "GENDER    MALE\n",
            "dtype: object\n"
          ]
        }
      ]
    },
    {
      "cell_type": "code",
      "source": [
        "#selection in series using loc index label\n",
        "series=np.array([1,2,3,4,5])\n",
        "a=pd.Series(series)\n",
        "f=print(a.loc[ :2])\n",
        "print(f)\n",
        "g=print(a.loc[3:4])\n",
        "print(g)\n",
        "\n"
      ],
      "metadata": {
        "colab": {
          "base_uri": "https://localhost:8080/"
        },
        "id": "BshR5IuKohvM",
        "outputId": "75ffee66-66ae-4c84-8b81-e61cfe220197"
      },
      "execution_count": 43,
      "outputs": [
        {
          "output_type": "stream",
          "name": "stdout",
          "text": [
            "0    1\n",
            "1    2\n",
            "2    3\n",
            "dtype: int64\n",
            "None\n",
            "3    4\n",
            "4    5\n",
            "dtype: int64\n",
            "None\n"
          ]
        }
      ]
    },
    {
      "cell_type": "code",
      "source": [
        "#selection in series using iloc index label\n",
        "series=np.array([1,2,3,4,5])\n",
        "a=pd.Series(series)\n",
        "f=print(a.iloc[ :2])\n",
        "print(f)\n",
        "g=print(a.iloc[3:4])\n",
        "print(g)"
      ],
      "metadata": {
        "colab": {
          "base_uri": "https://localhost:8080/"
        },
        "id": "-9mw1gn3t013",
        "outputId": "30ee5846-9a56-4d50-890f-442a887f7910"
      },
      "execution_count": 44,
      "outputs": [
        {
          "output_type": "stream",
          "name": "stdout",
          "text": [
            "0    1\n",
            "1    2\n",
            "dtype: int64\n",
            "None\n",
            "3    4\n",
            "dtype: int64\n",
            "None\n"
          ]
        }
      ]
    },
    {
      "cell_type": "code",
      "source": [
        "#selection in series using []\n",
        "series=np.array([1,2,3,4,5])\n",
        "a=pd.Series(series)\n",
        "f=print(a[2])\n",
        "print(f)\n",
        "g=print(a[3:4])\n",
        "print(g)"
      ],
      "metadata": {
        "colab": {
          "base_uri": "https://localhost:8080/"
        },
        "id": "OkQjrC6evzuS",
        "outputId": "b6f7fc02-00da-413b-8b89-391ef72291ce"
      },
      "execution_count": 45,
      "outputs": [
        {
          "output_type": "stream",
          "name": "stdout",
          "text": [
            "3\n",
            "None\n",
            "3    4\n",
            "dtype: int64\n",
            "None\n"
          ]
        }
      ]
    },
    {
      "cell_type": "code",
      "source": [
        "#indexing in series\n",
        "s=np.array([1,2,3,4,5])\n",
        "a=pd.Series(s,index=['first','second','third','forth','fifth'])\n",
        "print(a)\n",
        "print(a['first'])\n",
        "print(a[1])\n",
        "print(a.index)\n"
      ],
      "metadata": {
        "colab": {
          "base_uri": "https://localhost:8080/"
        },
        "id": "ljVXHpt3wmKQ",
        "outputId": "10c69ea4-fb7d-4568-d675-0a38833bf555"
      },
      "execution_count": 51,
      "outputs": [
        {
          "output_type": "stream",
          "name": "stdout",
          "text": [
            "first     1\n",
            "second    2\n",
            "third     3\n",
            "forth     4\n",
            "fifth     5\n",
            "dtype: int64\n",
            "1\n",
            "2\n",
            "Index(['first', 'second', 'third', 'forth', 'fifth'], dtype='object')\n"
          ]
        }
      ]
    },
    {
      "cell_type": "code",
      "source": [
        "#slicing in series\n",
        "s=np.array([1,2,3,4,5])\n",
        "a=pd.Series(s,index=['first','second','third','forth','fifth'])\n",
        "print(a)\n",
        "print(a[1:4:2])\n"
      ],
      "metadata": {
        "colab": {
          "base_uri": "https://localhost:8080/"
        },
        "id": "9UYuQcVlxpaz",
        "outputId": "37ccd7aa-c7ae-45d1-bcc8-ec71b333c56e"
      },
      "execution_count": 52,
      "outputs": [
        {
          "output_type": "stream",
          "name": "stdout",
          "text": [
            "first     1\n",
            "second    2\n",
            "third     3\n",
            "forth     4\n",
            "fifth     5\n",
            "dtype: int64\n",
            "second    2\n",
            "forth     4\n",
            "dtype: int64\n"
          ]
        }
      ]
    },
    {
      "cell_type": "code",
      "source": [],
      "metadata": {
        "id": "WCe9cFuBzFpj"
      },
      "execution_count": null,
      "outputs": []
    }
  ]
}