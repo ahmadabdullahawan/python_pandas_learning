{
  "nbformat": 4,
  "nbformat_minor": 0,
  "metadata": {
    "colab": {
      "provenance": []
    },
    "kernelspec": {
      "name": "python3",
      "display_name": "Python 3"
    },
    "language_info": {
      "name": "python"
    }
  },
  "cells": [
    {
      "cell_type": "code",
      "execution_count": 1,
      "metadata": {
        "id": "qXbtQ40aA8pd"
      },
      "outputs": [],
      "source": [
        "import pandas as pd\n",
        "import numpy as np\n",
        "import matplotlib.pyplot as plt\n",
        "import seaborn as sns"
      ]
    },
    {
      "cell_type": "code",
      "source": [
        "#creating empty data frame\n",
        "df = pd.DataFrame()\n",
        "print(df)"
      ],
      "metadata": {
        "colab": {
          "base_uri": "https://localhost:8080/"
        },
        "id": "m8mzz27FBKLh",
        "outputId": "149ee485-5880-43d0-a8a0-1567edb8d835"
      },
      "execution_count": 2,
      "outputs": [
        {
          "output_type": "stream",
          "name": "stdout",
          "text": [
            "Empty DataFrame\n",
            "Columns: []\n",
            "Index: []\n"
          ]
        }
      ]
    },
    {
      "cell_type": "code",
      "source": [
        "#creating data frame from series\n",
        "s = pd.Series([1,2,3,4,5])\n",
        "df=pd.DataFrame(s)\n",
        "print(df)"
      ],
      "metadata": {
        "colab": {
          "base_uri": "https://localhost:8080/"
        },
        "id": "mT2nUTFVBbhR",
        "outputId": "50ce142c-4589-4c32-98cf-d43ae376ebc6"
      },
      "execution_count": 3,
      "outputs": [
        {
          "output_type": "stream",
          "name": "stdout",
          "text": [
            "   0\n",
            "0  1\n",
            "1  2\n",
            "2  3\n",
            "3  4\n",
            "4  5\n"
          ]
        }
      ]
    },
    {
      "cell_type": "code",
      "source": [
        "#creating data frame from dictionary of series\n",
        "d = {'one':pd.Series([1,2,3],index=['a','b','c']),\n",
        "     'two':pd.Series([1,2,3,4],index=['a','b','c','d'])}\n",
        "df=pd.DataFrame(d)\n",
        "print(df)\n",
        "#or\n",
        "e=pd.Series([1,2,3,4,])\n",
        "f=pd.Series(['a','b','c','d'])\n",
        "df=pd.DataFrame({'one':e,'two':f})\n",
        "print(df)\n"
      ],
      "metadata": {
        "colab": {
          "base_uri": "https://localhost:8080/"
        },
        "id": "hddn7OJDCc7y",
        "outputId": "b9703edf-4752-4568-b34f-f1cf78669c7f"
      },
      "execution_count": null,
      "outputs": [
        {
          "output_type": "stream",
          "name": "stdout",
          "text": [
            "   one  two\n",
            "a  1.0    1\n",
            "b  2.0    2\n",
            "c  3.0    3\n",
            "d  NaN    4\n",
            "   one two\n",
            "0    1   a\n",
            "1    2   b\n",
            "2    3   c\n",
            "3    4   d\n",
            "one    [1, 2, 3]\n",
            "two    [a, b, c]\n",
            "dtype: object\n",
            "             0\n",
            "one  [1, 2, 3]\n",
            "two  [a, b, c]\n"
          ]
        }
      ]
    },
    {
      "cell_type": "code",
      "source": [
        "#creating data frame from list of dictionaries\n",
        "data = [{'a':1,'b':2},{'a':5,'b':10,'c':20}]\n",
        "df=pd.DataFrame(data)\n",
        "print(df)\n"
      ],
      "metadata": {
        "colab": {
          "base_uri": "https://localhost:8080/"
        },
        "id": "YehJ91GKCxw0",
        "outputId": "36eca2e2-05df-423a-ec6e-d342c77449af"
      },
      "execution_count": null,
      "outputs": [
        {
          "output_type": "stream",
          "name": "stdout",
          "text": [
            "   a   b     c\n",
            "0  1   2   NaN\n",
            "1  5  10  20.0\n"
          ]
        }
      ]
    },
    {
      "cell_type": "code",
      "source": [
        "#ILERATION ON ROWS\n",
        "df=[{'NAME':'ABDULLAH','GENDER':'MALE ','SECTION':'A'},{'NAME':'ILLYAS AHMED','GENDER':'MALE','SECTION':'A'}]\n",
        "\n",
        "df=pd.DataFrame(df)\n",
        "print(df)\n",
        "for(index_row,index_value) in df.iterrows():\n",
        "    print('index row is ')\n",
        "    print(index_row)\n",
        "    print('index value is ')\n",
        "    print(index_value)"
      ],
      "metadata": {
        "colab": {
          "base_uri": "https://localhost:8080/"
        },
        "id": "X8HOOxsJFEzx",
        "outputId": "2de7339e-fb81-47bf-a2b7-180b380f0732"
      },
      "execution_count": null,
      "outputs": [
        {
          "output_type": "stream",
          "name": "stdout",
          "text": [
            "           NAME GENDER SECTION\n",
            "0      ABDULLAH  MALE        A\n",
            "1  ILLYAS AHMED   MALE       A\n",
            "index row is \n",
            "0\n",
            "index value is \n",
            "NAME       ABDULLAH\n",
            "GENDER        MALE \n",
            "SECTION           A\n",
            "Name: 0, dtype: object\n",
            "index row is \n",
            "1\n",
            "index value is \n",
            "NAME       ILLYAS AHMED\n",
            "GENDER             MALE\n",
            "SECTION               A\n",
            "Name: 1, dtype: object\n"
          ]
        }
      ]
    },
    {
      "cell_type": "code",
      "source": [
        "#iteration on columns is\n",
        "df=[{'NAME':'ABDULLAH','GENDER':'MALE ','SECTION':'A'},{'NAME':'ILLYAS AHMED','GENDER':'MALE','SECTION':'A'}]\n",
        "\n",
        "df=pd.DataFrame(df)\n",
        "print(df)\n",
        "for(col_name,col_value) in df.items():\n",
        "    print('column name is  ')\n",
        "    print(col_name)\n",
        "    print('column value is  ')\n",
        "    print(col_value)"
      ],
      "metadata": {
        "colab": {
          "base_uri": "https://localhost:8080/"
        },
        "id": "U8ShnV2lJ8x-",
        "outputId": "1f4783b7-4352-4866-ed04-86b1d842cc57"
      },
      "execution_count": null,
      "outputs": [
        {
          "output_type": "stream",
          "name": "stdout",
          "text": [
            "           NAME GENDER SECTION\n",
            "0      ABDULLAH  MALE        A\n",
            "1  ILLYAS AHMED   MALE       A\n",
            "column name is  \n",
            "NAME\n",
            "column value is  \n",
            "0        ABDULLAH\n",
            "1    ILLYAS AHMED\n",
            "Name: NAME, dtype: object\n",
            "column name is  \n",
            "GENDER\n",
            "column value is  \n",
            "0    MALE \n",
            "1     MALE\n",
            "Name: GENDER, dtype: object\n",
            "column name is  \n",
            "SECTION\n",
            "column value is  \n",
            "0    A\n",
            "1    A\n",
            "Name: SECTION, dtype: object\n"
          ]
        }
      ]
    },
    {
      "cell_type": "code",
      "source": [
        "#for accessing a column in data frame\n",
        "df=[{'NAME':'ABDULLAH','GENDER':'MALE ','SECTION':'A'},{'NAME':'ILLYAS AHMED','GENDER':'MALE','SECTION':'A'}]\n",
        "\n",
        "df=pd.DataFrame(df)\n",
        "print(df)\n",
        "print('accessing a sigle column')\n",
        "print(df['NAME'])\n",
        "print(\"or\")\n",
        "print(df.NAME)\n",
        "print('accessing multiple columns')\n",
        "print(df[['NAME','GENDER']])\n"
      ],
      "metadata": {
        "colab": {
          "base_uri": "https://localhost:8080/"
        },
        "id": "_hL7IHTf9FVm",
        "outputId": "a59f5c7d-8739-4c16-86fd-40ef9cca3007"
      },
      "execution_count": 7,
      "outputs": [
        {
          "output_type": "stream",
          "name": "stdout",
          "text": [
            "           NAME GENDER SECTION\n",
            "0      ABDULLAH  MALE        A\n",
            "1  ILLYAS AHMED   MALE       A\n",
            "accessing a sigle column\n",
            "0        ABDULLAH\n",
            "1    ILLYAS AHMED\n",
            "Name: NAME, dtype: object\n",
            "or\n",
            "0        ABDULLAH\n",
            "1    ILLYAS AHMED\n",
            "Name: NAME, dtype: object\n",
            "accessing multiple columns\n",
            "           NAME GENDER\n",
            "0      ABDULLAH  MALE \n",
            "1  ILLYAS AHMED   MALE\n"
          ]
        }
      ]
    },
    {
      "cell_type": "code",
      "source": [
        "#To Add & Rename a column in data\n",
        "Dict=[{'NAME':'ABDULLAH','GENDER':'MALE ','SECTION':'A'},{'NAME':'ILLYAS AHMED','GENDER':'MALE','SECTION':'A'}]\n",
        "df=pd.DataFrame(Dict)\n",
        "print(df)\n",
        "print('now renaming a column ')\n",
        "df.rename(columns={'NAME': 'NAMES'}, inplace=True)\n",
        "print(df)\n",
        "print('now adding a column with same value in rows ')\n",
        "\n",
        "df['list2']=20\n",
        "print(df)\n",
        "df['list3']=[1,2]\n",
        "print(df)\n",
        "df['list3']=[1,2]\n",
        "df['list4']=df['list3']+df['list2']\n",
        "print(df)\n"
      ],
      "metadata": {
        "colab": {
          "base_uri": "https://localhost:8080/"
        },
        "id": "gCcDLPAw91ev",
        "outputId": "634a1010-72d7-4317-ebdb-f5d139cc89d6"
      },
      "execution_count": 19,
      "outputs": [
        {
          "output_type": "stream",
          "name": "stdout",
          "text": [
            "           NAME GENDER SECTION\n",
            "0      ABDULLAH  MALE        A\n",
            "1  ILLYAS AHMED   MALE       A\n",
            "now renaming a column \n",
            "          NAMES GENDER SECTION\n",
            "0      ABDULLAH  MALE        A\n",
            "1  ILLYAS AHMED   MALE       A\n",
            "now adding a column with same value in rows \n",
            "          NAMES GENDER SECTION  list2\n",
            "0      ABDULLAH  MALE        A     20\n",
            "1  ILLYAS AHMED   MALE       A     20\n",
            "          NAMES GENDER SECTION  list2  list3\n",
            "0      ABDULLAH  MALE        A     20      1\n",
            "1  ILLYAS AHMED   MALE       A     20      2\n",
            "          NAMES GENDER SECTION  list2  list3  list4\n",
            "0      ABDULLAH  MALE        A     20      1     21\n",
            "1  ILLYAS AHMED   MALE       A     20      2     22\n"
          ]
        }
      ]
    },
    {
      "cell_type": "code",
      "source": [
        "#deleting columns by using del pop and drop\n",
        "Dict=[{'NAME':'ABDULLAH','GENDER':'MALE ','SECTION':'A'},{'NAME':'ILLYAS AHMED','GENDER':'MALE','SECTION':'A'}]\n",
        "df=pd.DataFrame(Dict)\n",
        "df['list2']=20\n",
        "df['list3']=[1,2]\n",
        "df['list4']=df['list3']+df['list2']\n",
        "print(df)\n",
        "del df['list4']\n",
        "print(df)\n",
        "df.pop('list3')\n",
        "print(df)\n",
        "df.drop('list2',axis=1,inplace=True)\n",
        "print(df)\n",
        "\n",
        "\n",
        "\n",
        "\n",
        "\n"
      ],
      "metadata": {
        "colab": {
          "base_uri": "https://localhost:8080/"
        },
        "id": "A_KLJjUD_xRK",
        "outputId": "2011867b-48d2-41ed-8acc-45eabb52a124"
      },
      "execution_count": 34,
      "outputs": [
        {
          "output_type": "stream",
          "name": "stdout",
          "text": [
            "           NAME GENDER SECTION  list2  list3  list4\n",
            "0      ABDULLAH  MALE        A     20      1     21\n",
            "1  ILLYAS AHMED   MALE       A     20      2     22\n",
            "           NAME GENDER SECTION  list2  list3\n",
            "0      ABDULLAH  MALE        A     20      1\n",
            "1  ILLYAS AHMED   MALE       A     20      2\n",
            "           NAME GENDER SECTION  list2\n",
            "0      ABDULLAH  MALE        A     20\n",
            "1  ILLYAS AHMED   MALE       A     20\n",
            "           NAME GENDER SECTION\n",
            "0      ABDULLAH  MALE        A\n",
            "1  ILLYAS AHMED   MALE       A\n"
          ]
        }
      ]
    },
    {
      "cell_type": "code",
      "source": [
        "#acessing dataframes using loc\n",
        "Dict=[{'NAME':'ABDULLAH','GENDER':'MALE ','SECTION':'A'},{'NAME':'ILLYAS AHMED','GENDER':'MALE','SECTION':'A'},{'NAME':'UMAR HAIDER','GENDER':'MALE','SECTION':'A'}]\n",
        "df=pd.DataFrame(Dict)\n",
        "df['list2']=20\n",
        "df['list3']=[1,2,3]\n",
        "df['list4']=df['list3']+df['list2']\n",
        "print(df)\n",
        "print('to access a single row element')\n",
        "new_var = df.loc[0,'NAME']\n",
        "print(new_var)\n",
        "print('to access a a single row ')\n",
        "print(df.loc[0])\n",
        "print('to access multiple rows')\n",
        "print(df.loc[[0,2]])\n",
        "print(\"to access a single column\")\n",
        "print(df.loc[:,'NAME'])\n",
        "print('to access a multiple columns')\n",
        "print(df.loc[:,['NAME','SECTION']])"
      ],
      "metadata": {
        "colab": {
          "base_uri": "https://localhost:8080/"
        },
        "id": "T04dPeTOG6th",
        "outputId": "e34d34e3-abb4-4f4a-8b31-6e56e697acf1"
      },
      "execution_count": 50,
      "outputs": [
        {
          "output_type": "stream",
          "name": "stdout",
          "text": [
            "           NAME GENDER SECTION  list2  list3  list4\n",
            "0      ABDULLAH  MALE        A     20      1     21\n",
            "1  ILLYAS AHMED   MALE       A     20      2     22\n",
            "2   UMAR HAIDER   MALE       A     20      3     23\n",
            "to access a single row element\n",
            "ABDULLAH\n",
            "to access a a single row \n",
            "NAME       ABDULLAH\n",
            "GENDER        MALE \n",
            "SECTION           A\n",
            "list2            20\n",
            "list3             1\n",
            "list4            21\n",
            "Name: 0, dtype: object\n",
            "to access multiple rows\n",
            "          NAME GENDER SECTION  list2  list3  list4\n",
            "0     ABDULLAH  MALE        A     20      1     21\n",
            "2  UMAR HAIDER   MALE       A     20      3     23\n",
            "to access a single column\n",
            "0        ABDULLAH\n",
            "1    ILLYAS AHMED\n",
            "2     UMAR HAIDER\n",
            "Name: NAME, dtype: object\n",
            "to access a multiple columns\n",
            "           NAME SECTION\n",
            "0      ABDULLAH       A\n",
            "1  ILLYAS AHMED       A\n",
            "2   UMAR HAIDER       A\n"
          ]
        }
      ]
    },
    {
      "cell_type": "code",
      "source": [
        "#acessing dataframes using  iloc\n",
        "Dict=[{'NAME':'ABDULLAH','GENDER':'MALE ','SECTION':'A'},{'NAME':'ILLYAS AHMED','GENDER':'MALE','SECTION':'A'},{'NAME':'UMAR HAIDER','GENDER':'MALE','SECTION':'A'}]\n",
        "df=pd.DataFrame(Dict)\n",
        "df['list2']=20\n",
        "df['list3']=[1,2,3]\n",
        "df['list4']=df['list3']+df['list2']\n",
        "print(df)\n",
        "print('to access a single row element')\n",
        "new_var = df.iloc[0:1,0:1]\n",
        "print(new_var)\n",
        "new_var = df.iloc[1:2,1:2]\n",
        "print(new_var)\n",
        "\n"
      ],
      "metadata": {
        "colab": {
          "base_uri": "https://localhost:8080/"
        },
        "id": "0IublrSoNjvJ",
        "outputId": "f846e369-dd88-435b-9911-d560a152ff69"
      },
      "execution_count": 54,
      "outputs": [
        {
          "output_type": "stream",
          "name": "stdout",
          "text": [
            "           NAME GENDER SECTION  list2  list3  list4\n",
            "0      ABDULLAH  MALE        A     20      1     21\n",
            "1  ILLYAS AHMED   MALE       A     20      2     22\n",
            "2   UMAR HAIDER   MALE       A     20      3     23\n",
            "to access a single row element\n",
            "       NAME\n",
            "0  ABDULLAH\n",
            "  GENDER\n",
            "1   MALE\n"
          ]
        }
      ]
    },
    {
      "cell_type": "code",
      "source": [],
      "metadata": {
        "id": "BCLsrAIxQJnI"
      },
      "execution_count": null,
      "outputs": []
    }
  ]
}